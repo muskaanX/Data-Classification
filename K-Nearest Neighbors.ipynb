{
  "nbformat": 4,
  "nbformat_minor": 0,
  "metadata": {
    "colab": {
      "provenance": []
    },
    "kernelspec": {
      "name": "python3",
      "display_name": "Python 3"
    },
    "language_info": {
      "name": "python"
    }
  },
  "cells": [
    {
      "cell_type": "code",
      "execution_count": 1,
      "metadata": {
        "id": "sLuf6LWLC4sk"
      },
      "outputs": [],
      "source": [
        "import numpy as np\n",
        "from builtins import object as py_object\n",
        "from builtins import range\n",
        "import matplotlib.pyplot as plt\n",
        "import seaborn as sns\n",
        "import pandas as pd \n",
        "from sklearn.metrics import confusion_matrix\n",
        "from math import sqrt\n",
        "from mpl_toolkits import mplot3d"
      ]
    },
    {
      "cell_type": "code",
      "source": [
        "class knn(py_object):\n",
        "    def __init__(self):\n",
        "        pass\n",
        "    \n",
        "    def train(self, X, y):\n",
        "        self.X_train = X\n",
        "        self.y_train = y\n",
        "\n",
        "    def distances(self, X):\n",
        "        n_train = self.X_train.shape[0]\n",
        "        n_test = X.shape[0]\n",
        "        distance = np.zeros((n_test, n_train))\n",
        "        for i in range(n_train):\n",
        "            for j in range(n_test):\n",
        "                distance[j, i] = np.sqrt(np.sum((X[j, :] - self.X_train[i, :])**2))\n",
        "            pass\n",
        "        return distance \n",
        "\n",
        "    def predict(self, distance, k=1):\n",
        "        n_test = distance.shape[0]\n",
        "        predictions = np.zeros(n_test)\n",
        "        for i in range(n_test):\n",
        "            closest = np.argsort(distance[i, :])[:k]\n",
        "            predictions[i] = np.argmax(np.bincount(self.y_train[closest]))\n",
        "        return predictions"
      ],
      "metadata": {
        "id": "u0DWM0GIDFbj"
      },
      "execution_count": 2,
      "outputs": []
    },
    {
      "cell_type": "code",
      "source": [
        "train_path = [\"./input/Training/Apple Red Delicious\", \"./input/Training/Avocado\"]\n",
        "test_path = [\"./input/Test/Apple Red Delicious\", \"./input/Test/Avocado\"]"
      ],
      "metadata": {
        "id": "fRyyUAEcDIZl"
      },
      "execution_count": 3,
      "outputs": []
    },
    {
      "cell_type": "code",
      "source": [
        "def cancer_dataset():\n",
        "    # Link to the dataset used https://www.kaggle.com/code/lbronchal/breast-cancer-dataset-analysis/data\n",
        "    dataset = pd.read_csv('dataset_input/data.csv')\n",
        "    dataset = dataset[['diagnosis', 'area_mean', 'symmetry_mean']]\n",
        "    print(\"Dataset Before Renaming Cols:\")\n",
        "    print(dataset.head())\n",
        "\n",
        "    dataset = dataset.replace({'diagnosis': {'M': 1, 'B': 0}})\n",
        "    dataset.rename(columns = {'diagnosis':'y', 'area_mean':'x1', 'symmetry_mean':'x2'}, inplace = True)\n",
        "    print(\"Dataset After Renaming Cols:\")\n",
        "    print(dataset.head())\n",
        "    x = np.array(dataset.iloc[:, 1:3].values)\n",
        "    y = np.array(dataset.iloc[:, 0].values)\n",
        "    shape = x.shape[0]\n",
        "    x_train = x[:3*shape//4]\n",
        "    y_train = y[:3*shape//4]\n",
        "    x_test = x[3*shape//4:shape]\n",
        "    y_test = y[3*shape//4:shape]\n",
        "\n",
        "    print(f\"Training data loaded {x_train.shape[0]}\")\n",
        "    print(f\"Training Labels loaded {y_train.shape[0]}\")\n",
        "    print(f\"Testing data loaded {x_test.shape[0]}\")\n",
        "    print(f\"Testing labels loaded {y_test.shape[0]}\")\n",
        "    return x_train, y_train, x_test, y_test\n"
      ],
      "metadata": {
        "id": "jSO6gmygDMKh"
      },
      "execution_count": 4,
      "outputs": []
    },
    {
      "cell_type": "code",
      "source": [
        "def trainer(x_train, y_train, x_test, y_test, k):\n",
        "    mode = knn()\n",
        "    mode.train(x_train, y_train)\n",
        "    distance = mode.distances(x_test)\n",
        "    predictions = mode.predict(distance, k=k)\n",
        "    accuracy = np.mean(predictions == y_test)\n",
        "    print(f\"Accuracy: {round(accuracy, 4)} with k = {k}\")\n",
        "    return predictions, accuracy"
      ],
      "metadata": {
        "id": "-MFwM5vwDSsw"
      },
      "execution_count": 5,
      "outputs": []
    },
    {
      "cell_type": "code",
      "source": [
        "def result_plotter(predictions, accuracy):\n",
        "    sns.set_style(\"whitegrid\")\n",
        "\n",
        "    sns.barplot(x=[\"Malignant\", \"Benign\"], y=np.bincount(y_train),orient=\"v\", palette = sns.diverging_palette(220, 20,n=2)).set(title = \"Training Data Distribution\")\n",
        "    plt.savefig(\"Training Data Distribution.png\")\n",
        "    plt.clf()\n",
        "\n",
        "    sns.barplot(x=[\"Malignant\", \"Benign\"], y=np.bincount(y_test),orient=\"v\", palette=sns.diverging_palette(220, 20,n=2)).set(title = \"Testing Data Distribution\")\n",
        "    plt.savefig(\"Testing Data Distribution.png\")\n",
        "    plt.clf()\n",
        "\n",
        "    a = confusion_matrix(y_test, predictions)\n",
        "    ax= plt.subplot()\n",
        "    sns.heatmap(a, annot=True, fmt='g', ax=ax);\n",
        "    ax.set_xlabel('Predicted labels');\n",
        "    ax.set_ylabel('True labels'); \n",
        "    ax.set_title('Confusion Matrix'); \n",
        "    ax.xaxis.set_ticklabels(['Malignant', 'Benign']); ax.yaxis.set_ticklabels(['Benign', 'Malignant']);\n",
        "    plt.savefig(\"Confusion Matrix.png\")\n",
        "    print(\"Plots Generated and Saved\")"
      ],
      "metadata": {
        "id": "pfTbUxsNDVJ6"
      },
      "execution_count": 6,
      "outputs": []
    },
    {
      "cell_type": "code",
      "source": [
        "if __name__ == \"__main__\":\n",
        "    accuracy_arr = []\n",
        "    x_train, y_train, x_test, y_test = cancer_dataset()\n",
        "    end = x_test.shape[0]+x_test.shape[0]\n",
        "    end = int(sqrt(end))\n",
        "    for k in range(1,end):\n",
        "        predictions, accuracy = trainer(x_train, y_train, x_test, y_test,k)\n",
        "        accuracy_arr.append(accuracy)\n",
        "    sns.set_style(\"whitegrid\")\n",
        "    sns.lineplot(x=range(1,end), y=accuracy_arr, palette=sns.diverging_palette(220, 20,n=2))\n",
        "    sns.scatterplot(x=range(1,end), y=accuracy_arr, palette=sns.diverging_palette(220, 20,n=2)).set(title = \"Accuracy vs K\")\n",
        "    plt.savefig(\"Accuracy vs K.png\")\n",
        "    best_k = np.argmax(accuracy_arr)+1\n",
        "    print(f\"Best K value is {best_k}\")\n",
        "    predictions, accuracy = trainer(x_train, y_train, x_test, y_test, best_k)\n",
        "    result_plotter(predictions, accuracy)\n",
        "    \n",
        "    fig, ax = plt.subplots(figsize = (10, 10))\n",
        "    x_train_malignant = x_train[y_train == 1]\n",
        "    x_train_benign = x_train[y_train == 0]\n",
        "    y_train_malignant = y_train[y_train == 1]\n",
        "    y_train_benign = y_train[y_train == 0]\n",
        "    ax.scatter(x_train_malignant[:,0], x_train_malignant[:,1], color = \"red\", label = \"Malignant\")\n",
        "    ax.scatter(x_train_benign[:,0], x_train_benign[:,1], color = \"green\", label = \"Benign\")\n",
        "\n",
        "    x_test_malignant = x_test[y_test == 1]\n",
        "    x_test_benign = x_test[y_test == 0]\n",
        "    y_test_malignant = y_test[y_test == 1]\n",
        "    y_test_benign = y_test[y_test == 0]\n",
        "    ax.scatter(x_test_malignant[:,0], x_test_malignant[:,1], color = \"red\", marker = \"x\", label = \"Malignant Test\")\n",
        "    ax.scatter(x_test_benign[:,0], x_test_benign[:,1], color = \"green\", marker = \"x\", label = \"Benign Test\")\n",
        "    \n",
        "    ax.set_title('Scatter plot X-Y')\n",
        "    plt.savefig(\"Scatter plot xy.png\")"
      ],
      "metadata": {
        "id": "1QkORUMKDg2L"
      },
      "execution_count": null,
      "outputs": []
    }
  ]
}